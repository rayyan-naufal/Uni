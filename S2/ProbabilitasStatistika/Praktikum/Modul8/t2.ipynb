{
 "cells": [
  {
   "cell_type": "code",
   "execution_count": 1,
   "metadata": {},
   "outputs": [
    {
     "name": "stdout",
     "output_type": "stream",
     "text": [
      "Statistik Uji Kolmogorov-Smirnov: 0.18805925481308217\n",
      "p-value: 0.5606487063640894\n",
      "Data berdistribusi normal (gagal menolak H0)\n"
     ]
    }
   ],
   "source": [
    "import numpy as np\n",
    "from scipy import stats\n",
    "\n",
    "# Data sampel nilai dari 15 mahasiswa\n",
    "data = [904, 920, 973, 1001, 1002, 1002, 1012, 1016, 1039, 1086, 1140, 1146, 1168, 1233, 1255, 1348]\n",
    "\n",
    "# Melakukan Uji Kolmogorov-Smirnov\n",
    "stat, p_value = stats.kstest(data, 'norm', args=(np.mean(data), np.std(data, ddof=1)))\n",
    "\n",
    "print(\"Statistik Uji Kolmogorov-Smirnov:\", stat)\n",
    "print(\"p-value:\", p_value)\n",
    "\n",
    "# Menentukan apakah data berdistribusi normal atau tidak\n",
    "alpha = 0.01\n",
    "if p_value > alpha:\n",
    "    print(\"Data berdistribusi normal (gagal menolak H0)\")\n",
    "else:\n",
    "    print(\"Data tidak berdistribusi normal (menolak H0)\")\n"
   ]
  }
 ],
 "metadata": {
  "kernelspec": {
   "display_name": "Python 3",
   "language": "python",
   "name": "python3"
  },
  "language_info": {
   "codemirror_mode": {
    "name": "ipython",
    "version": 3
   },
   "file_extension": ".py",
   "mimetype": "text/x-python",
   "name": "python",
   "nbconvert_exporter": "python",
   "pygments_lexer": "ipython3",
   "version": "3.12.2"
  }
 },
 "nbformat": 4,
 "nbformat_minor": 2
}
