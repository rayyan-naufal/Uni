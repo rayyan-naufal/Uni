{
 "cells": [
  {
   "cell_type": "code",
   "execution_count": 5,
   "metadata": {},
   "outputs": [
    {
     "name": "stdout",
     "output_type": "stream",
     "text": [
      "Rata-rata sampel: 9.8375\n",
      "Standar deviasi sampel: 0.5553313039464433\n",
      "t-statistic: -0.8276490169111393\n",
      "p-value: 0.43517369394645455\n",
      "Gagal menolak hipotesis nol (H0)\n"
     ]
    }
   ],
   "source": [
    "import numpy as np\n",
    "from scipy import stats\n",
    "\n",
    "# Data sampel\n",
    "data = [9.5, 10.1, 10.2, 9.8, 10.3, 10.5, 9.5, 8.8]\n",
    "\n",
    "# Rata-rata hipotesis\n",
    "mu = 10\n",
    "\n",
    "# Menghitung rata-rata sampel\n",
    "mean_sample = np.mean(data)\n",
    "print(f\"Rata-rata sampel: {mean_sample}\")\n",
    "\n",
    "# Menghitung standar deviasi sampel\n",
    "std_sample = np.std(data, ddof=1)\n",
    "print(f\"Standar deviasi sampel: {std_sample}\")\n",
    "\n",
    "# Jumlah sampel\n",
    "n = len(data)\n",
    "\n",
    "# Menghitung statistik uji t\n",
    "t_statistic, p_value = stats.ttest_1samp(data, mu)\n",
    "print(f\"t-statistic: {t_statistic}\")\n",
    "print(f\"p-value: {p_value}\")\n",
    "\n",
    "# Menentukan taraf nyata\n",
    "alpha = 0.05\n",
    "\n",
    "# Menentukan keputusan\n",
    "if p_value < alpha:\n",
    "    print(\"Tolak hipotesis nol (H0)\")\n",
    "else:\n",
    "    print(\"Gagal menolak hipotesis nol (H0)\")\n"
   ]
  },
  {
   "cell_type": "code",
   "execution_count": 7,
   "metadata": {},
   "outputs": [
    {
     "name": "stdout",
     "output_type": "stream",
     "text": [
      "Rata-rata sampel: 15300.0\n",
      "Standar deviasi sampel: 1135.2924243950933\n",
      "t-statistic: 2.2283440581246223\n",
      "p-value: 0.05283944651707043\n",
      "Gagal menolak hipotesis nol (H0)\n"
     ]
    }
   ],
   "source": [
    "import numpy as np\n",
    "from scipy import stats\n",
    "\n",
    "# Data sampel\n",
    "data = [15000, 15500, 17500, 14500, 14000, 16000, 14500, 15500, 16500, 14000]\n",
    "\n",
    "# Rata-rata hipotesis\n",
    "mu = 14500\n",
    "\n",
    "# Menghitung rata-rata sampel\n",
    "mean_sample = np.mean(data)\n",
    "print(f\"Rata-rata sampel: {mean_sample}\")\n",
    "\n",
    "# Menghitung standar deviasi sampel\n",
    "std_sample = np.std(data, ddof=1)\n",
    "print(f\"Standar deviasi sampel: {std_sample}\")\n",
    "\n",
    "# Jumlah sampel\n",
    "n = len(data)\n",
    "\n",
    "# Menghitung statistik uji t\n",
    "t_statistic, p_value = stats.ttest_1samp(data, mu)\n",
    "print(f\"t-statistic: {t_statistic}\")\n",
    "print(f\"p-value: {p_value}\")\n",
    "\n",
    "# Menentukan taraf nyata\n",
    "alpha = 0.05\n",
    "\n",
    "# Menentukan keputusan\n",
    "if p_value < alpha:\n",
    "    print(\"Tolak hipotesis nol (H0)\")\n",
    "else:\n",
    "    print(\"Gagal menolak hipotesis nol (H0)\")\n"
   ]
  }
 ],
 "metadata": {
  "kernelspec": {
   "display_name": "Python 3",
   "language": "python",
   "name": "python3"
  },
  "language_info": {
   "codemirror_mode": {
    "name": "ipython",
    "version": 3
   },
   "file_extension": ".py",
   "mimetype": "text/x-python",
   "name": "python",
   "nbconvert_exporter": "python",
   "pygments_lexer": "ipython3",
   "version": "3.12.2"
  }
 },
 "nbformat": 4,
 "nbformat_minor": 2
}
